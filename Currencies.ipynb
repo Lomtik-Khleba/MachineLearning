{
 "cells": [
  {
   "cell_type": "code",
   "execution_count": 1,
   "metadata": {},
   "outputs": [],
   "source": [
    "import pandas"
   ]
  },
  {
   "cell_type": "code",
   "execution_count": 16,
   "metadata": {},
   "outputs": [],
   "source": [
    "usd_rates = pandas.read_excel(\"usd_rates.xlsx\")"
   ]
  },
  {
   "cell_type": "code",
   "execution_count": 6,
   "metadata": {},
   "outputs": [
    {
     "data": {
      "text/plain": [
       "<matplotlib.axes._subplots.AxesSubplot at 0x7f7f77d60c10>"
      ]
     },
     "execution_count": 6,
     "metadata": {},
     "output_type": "execute_result"
    },
    {
     "data": {
      "image/png": "[encoded data removed]",
      "text/plain": [
       "<Figure size 432x288 with 1 Axes>"
      ]
     },
     "metadata": {
      "needs_background": "light"
     },
     "output_type": "display_data"
    }
   ],
   "source": [
    "usd_rates.curs.plot()"
   ]
  },
  {
   "cell_type": "code",
   "execution_count": 7,
   "metadata": {},
   "outputs": [],
   "source": [
    "future = 7 # prediction about next 7 days"
   ]
  },
  {
   "cell_type": "code",
   "execution_count": 8,
   "metadata": {},
   "outputs": [],
   "source": [
    "past = 28 # period of time used for prediction"
   ]
  },
  {
   "cell_type": "code",
   "execution_count": 9,
   "metadata": {},
   "outputs": [],
   "source": [
    "money = usd_rates.curs"
   ]
  },
  {
   "cell_type": "code",
   "execution_count": 10,
   "metadata": {},
   "outputs": [
    {
     "data": {
      "text/plain": [
       "72    61.6644\n",
       "73    61.7494\n",
       "74    62.6027\n",
       "75    62.7260\n",
       "76    61.9997\n",
       "77    63.4860\n",
       "78    63.2012\n",
       "79    62.7148\n",
       "80    63.0066\n",
       "81    62.5229\n",
       "82    61.7354\n",
       "83    61.7684\n",
       "84    61.9164\n",
       "85    62.3033\n",
       "86    61.8215\n",
       "87    61.9408\n",
       "88    62.5327\n",
       "89    61.2610\n",
       "90    61.5945\n",
       "91    61.4090\n",
       "92    61.6659\n",
       "93    62.2710\n",
       "94    62.6420\n",
       "95    62.5937\n",
       "96    62.0188\n",
       "97    62.2056\n",
       "98    61.9290\n",
       "99    61.9822\n",
       "Name: curs, dtype: float64"
      ]
     },
     "execution_count": 10,
     "metadata": {},
     "output_type": "execute_result"
    }
   ],
   "source": [
    "money[72:100]"
   ]
  },
  {
   "cell_type": "code",
   "execution_count": 11,
   "metadata": {},
   "outputs": [
    {
     "data": {
      "text/plain": [
       "100    62.0064\n",
       "101    61.8125\n",
       "102    62.6680\n",
       "103    62.3431\n",
       "104    63.1164\n",
       "105    62.2511\n",
       "106    62.6851\n",
       "Name: curs, dtype: float64"
      ]
     },
     "execution_count": 11,
     "metadata": {},
     "output_type": "execute_result"
    }
   ],
   "source": [
    "money[100:107]"
   ]
  },
  {
   "cell_type": "code",
   "execution_count": 12,
   "metadata": {},
   "outputs": [
    {
     "data": {
      "text/plain": [
       "(606,)"
      ]
     },
     "execution_count": 12,
     "metadata": {},
     "output_type": "execute_result"
    }
   ],
   "source": [
    "money.shape"
   ]
  },
  {
   "cell_type": "code",
   "execution_count": 17,
   "metadata": {},
   "outputs": [
    {
     "name": "stdout",
     "output_type": "stream",
     "text": [
      "28 ... 599, =571\n"
     ]
    }
   ],
   "source": [
    "start = past\n",
    "end =len(money) - future\n",
    "count = end - start\n",
    "print(f\"{start} ... {end}, ={count}\")"
   ]
  },
  {
   "cell_type": "code",
   "execution_count": 19,
   "metadata": {},
   "outputs": [],
   "source": [
    "training_past = []\n",
    "training_future = []\n",
    "for day in range(start, end):\n",
    "    past_data = money[(day - past):day]\n",
    "    future_data = money[day:(day + future)]\n",
    "    training_past.append(list(past_data))\n",
    "    training_future.append(list(future_data))"
   ]
  },
  {
   "cell_type": "code",
   "execution_count": 21,
   "metadata": {},
   "outputs": [],
   "source": [
    "future_columns = []\n",
    "for i in range(future):\n",
    "    future_columns.append(f\"future_{i}\")"
   ]
  },
  {
   "cell_type": "code",
   "execution_count": 22,
   "metadata": {},
   "outputs": [
    {
     "data": {
      "text/plain": [
       "['future_0',\n",
       " 'future_1',\n",
       " 'future_2',\n",
       " 'future_3',\n",
       " 'future_4',\n",
       " 'future_5',\n",
       " 'future_6']"
      ]
     },
     "execution_count": 22,
     "metadata": {},
     "output_type": "execute_result"
    }
   ],
   "source": [
    "future_columns"
   ]
  },
  {
   "cell_type": "code",
   "execution_count": 23,
   "metadata": {},
   "outputs": [],
   "source": [
    "past_columns = []\n",
    "for i in range(past):\n",
    "    past_columns.append(f\"past_{i}\")"
   ]
  },
  {
   "cell_type": "code",
   "execution_count": 24,
   "metadata": {},
   "outputs": [
    {
     "data": {
      "text/plain": [
       "['past_0',\n",
       " 'past_1',\n",
       " 'past_2',\n",
       " 'past_3',\n",
       " 'past_4',\n",
       " 'past_5',\n",
       " 'past_6',\n",
       " 'past_7',\n",
       " 'past_8',\n",
       " 'past_9',\n",
       " 'past_10',\n",
       " 'past_11',\n",
       " 'past_12',\n",
       " 'past_13',\n",
       " 'past_14',\n",
       " 'past_15',\n",
       " 'past_16',\n",
       " 'past_17',\n",
       " 'past_18',\n",
       " 'past_19',\n",
       " 'past_20',\n",
       " 'past_21',\n",
       " 'past_22',\n",
       " 'past_23',\n",
       " 'past_24',\n",
       " 'past_25',\n",
       " 'past_26',\n",
       " 'past_27']"
      ]
     },
     "execution_count": 24,
     "metadata": {},
     "output_type": "execute_result"
    }
   ],
   "source": [
    "past_columns"
   ]
  },
  {
   "cell_type": "code",
   "execution_count": 28,
   "metadata": {},
   "outputs": [],
   "source": [
    "past_df = pandas.DataFrame(training_past, columns = past_columns)"
   ]
  },
  {
   "cell_type": "code",
   "execution_count": 26,
   "metadata": {},
   "outputs": [
    {
     "data": {
      "text/html": [
       "<div>\n",
       "<style scoped>\n",
       "    .dataframe tbody tr th:only-of-type {\n",
       "        vertical-align: middle;\n",
       "    }\n",
       "\n",
       "    .dataframe tbody tr th {\n",
       "        vertical-align: top;\n",
       "    }\n",
       "\n",
       "    .dataframe thead th {\n",
       "        text-align: right;\n",
       "    }\n",
       "</style>\n",
       "<table border=\"1\" class=\"dataframe\">\n",
       "  <thead>\n",
       "    <tr style=\"text-align: right;\">\n",
       "      <th></th>\n",
       "      <th>past_0</th>\n",
       "      <th>past_1</th>\n",
       "      <th>past_2</th>\n",
       "      <th>past_3</th>\n",
       "      <th>past_4</th>\n",
       "      <th>past_5</th>\n",
       "      <th>past_6</th>\n",
       "      <th>past_7</th>\n",
       "      <th>past_8</th>\n",
       "      <th>past_9</th>\n",
       "      <th>...</th>\n",
       "      <th>past_18</th>\n",
       "      <th>past_19</th>\n",
       "      <th>past_20</th>\n",
       "      <th>past_21</th>\n",
       "      <th>past_22</th>\n",
       "      <th>past_23</th>\n",
       "      <th>past_24</th>\n",
       "      <th>past_25</th>\n",
       "      <th>past_26</th>\n",
       "      <th>past_27</th>\n",
       "    </tr>\n",
       "  </thead>\n",
       "  <tbody>\n",
       "    <tr>\n",
       "      <th>0</th>\n",
       "      <td>57.0463</td>\n",
       "      <td>56.8734</td>\n",
       "      <td>56.9957</td>\n",
       "      <td>56.6019</td>\n",
       "      <td>56.3569</td>\n",
       "      <td>56.3878</td>\n",
       "      <td>56.5925</td>\n",
       "      <td>56.7597</td>\n",
       "      <td>56.5892</td>\n",
       "      <td>56.6261</td>\n",
       "      <td>...</td>\n",
       "      <td>56.0408</td>\n",
       "      <td>56.6278</td>\n",
       "      <td>57.2196</td>\n",
       "      <td>56.9533</td>\n",
       "      <td>57.6736</td>\n",
       "      <td>58.1718</td>\n",
       "      <td>58.0171</td>\n",
       "      <td>57.7701</td>\n",
       "      <td>57.5899</td>\n",
       "      <td>56.5918</td>\n",
       "    </tr>\n",
       "    <tr>\n",
       "      <th>1</th>\n",
       "      <td>56.8734</td>\n",
       "      <td>56.9957</td>\n",
       "      <td>56.6019</td>\n",
       "      <td>56.3569</td>\n",
       "      <td>56.3878</td>\n",
       "      <td>56.5925</td>\n",
       "      <td>56.7597</td>\n",
       "      <td>56.5892</td>\n",
       "      <td>56.6261</td>\n",
       "      <td>56.4115</td>\n",
       "      <td>...</td>\n",
       "      <td>56.6278</td>\n",
       "      <td>57.2196</td>\n",
       "      <td>56.9533</td>\n",
       "      <td>57.6736</td>\n",
       "      <td>58.1718</td>\n",
       "      <td>58.0171</td>\n",
       "      <td>57.7701</td>\n",
       "      <td>57.5899</td>\n",
       "      <td>56.5918</td>\n",
       "      <td>56.3554</td>\n",
       "    </tr>\n",
       "    <tr>\n",
       "      <th>2</th>\n",
       "      <td>56.9957</td>\n",
       "      <td>56.6019</td>\n",
       "      <td>56.3569</td>\n",
       "      <td>56.3878</td>\n",
       "      <td>56.5925</td>\n",
       "      <td>56.7597</td>\n",
       "      <td>56.5892</td>\n",
       "      <td>56.6261</td>\n",
       "      <td>56.4115</td>\n",
       "      <td>56.3888</td>\n",
       "      <td>...</td>\n",
       "      <td>57.2196</td>\n",
       "      <td>56.9533</td>\n",
       "      <td>57.6736</td>\n",
       "      <td>58.1718</td>\n",
       "      <td>58.0171</td>\n",
       "      <td>57.7701</td>\n",
       "      <td>57.5899</td>\n",
       "      <td>56.5918</td>\n",
       "      <td>56.3554</td>\n",
       "      <td>56.3438</td>\n",
       "    </tr>\n",
       "    <tr>\n",
       "      <th>3</th>\n",
       "      <td>56.6019</td>\n",
       "      <td>56.3569</td>\n",
       "      <td>56.3878</td>\n",
       "      <td>56.5925</td>\n",
       "      <td>56.7597</td>\n",
       "      <td>56.5892</td>\n",
       "      <td>56.6261</td>\n",
       "      <td>56.4115</td>\n",
       "      <td>56.3888</td>\n",
       "      <td>55.9288</td>\n",
       "      <td>...</td>\n",
       "      <td>56.9533</td>\n",
       "      <td>57.6736</td>\n",
       "      <td>58.1718</td>\n",
       "      <td>58.0171</td>\n",
       "      <td>57.7701</td>\n",
       "      <td>57.5899</td>\n",
       "      <td>56.5918</td>\n",
       "      <td>56.3554</td>\n",
       "      <td>56.3438</td>\n",
       "      <td>56.5201</td>\n",
       "    </tr>\n",
       "    <tr>\n",
       "      <th>4</th>\n",
       "      <td>56.3569</td>\n",
       "      <td>56.3878</td>\n",
       "      <td>56.5925</td>\n",
       "      <td>56.7597</td>\n",
       "      <td>56.5892</td>\n",
       "      <td>56.6261</td>\n",
       "      <td>56.4115</td>\n",
       "      <td>56.3888</td>\n",
       "      <td>55.9288</td>\n",
       "      <td>55.8288</td>\n",
       "      <td>...</td>\n",
       "      <td>57.6736</td>\n",
       "      <td>58.1718</td>\n",
       "      <td>58.0171</td>\n",
       "      <td>57.7701</td>\n",
       "      <td>57.5899</td>\n",
       "      <td>56.5918</td>\n",
       "      <td>56.3554</td>\n",
       "      <td>56.3438</td>\n",
       "      <td>56.5201</td>\n",
       "      <td>56.6537</td>\n",
       "    </tr>\n",
       "    <tr>\n",
       "      <th>...</th>\n",
       "      <td>...</td>\n",
       "      <td>...</td>\n",
       "      <td>...</td>\n",
       "      <td>...</td>\n",
       "      <td>...</td>\n",
       "      <td>...</td>\n",
       "      <td>...</td>\n",
       "      <td>...</td>\n",
       "      <td>...</td>\n",
       "      <td>...</td>\n",
       "      <td>...</td>\n",
       "      <td>...</td>\n",
       "      <td>...</td>\n",
       "      <td>...</td>\n",
       "      <td>...</td>\n",
       "      <td>...</td>\n",
       "      <td>...</td>\n",
       "      <td>...</td>\n",
       "      <td>...</td>\n",
       "      <td>...</td>\n",
       "      <td>...</td>\n",
       "    </tr>\n",
       "    <tr>\n",
       "      <th>566</th>\n",
       "      <td>73.6894</td>\n",
       "      <td>72.7263</td>\n",
       "      <td>73.9719</td>\n",
       "      <td>74.1169</td>\n",
       "      <td>73.8725</td>\n",
       "      <td>73.4326</td>\n",
       "      <td>73.5819</td>\n",
       "      <td>73.9298</td>\n",
       "      <td>73.2056</td>\n",
       "      <td>72.9798</td>\n",
       "      <td>...</td>\n",
       "      <td>70.7520</td>\n",
       "      <td>69.7114</td>\n",
       "      <td>68.9831</td>\n",
       "      <td>68.3413</td>\n",
       "      <td>69.0151</td>\n",
       "      <td>68.6319</td>\n",
       "      <td>68.3123</td>\n",
       "      <td>68.6745</td>\n",
       "      <td>68.6183</td>\n",
       "      <td>69.1219</td>\n",
       "    </tr>\n",
       "    <tr>\n",
       "      <th>567</th>\n",
       "      <td>72.7263</td>\n",
       "      <td>73.9719</td>\n",
       "      <td>74.1169</td>\n",
       "      <td>73.8725</td>\n",
       "      <td>73.4326</td>\n",
       "      <td>73.5819</td>\n",
       "      <td>73.9298</td>\n",
       "      <td>73.2056</td>\n",
       "      <td>72.9798</td>\n",
       "      <td>72.3918</td>\n",
       "      <td>...</td>\n",
       "      <td>69.7114</td>\n",
       "      <td>68.9831</td>\n",
       "      <td>68.3413</td>\n",
       "      <td>69.0151</td>\n",
       "      <td>68.6319</td>\n",
       "      <td>68.3123</td>\n",
       "      <td>68.6745</td>\n",
       "      <td>68.6183</td>\n",
       "      <td>69.1219</td>\n",
       "      <td>70.3950</td>\n",
       "    </tr>\n",
       "    <tr>\n",
       "      <th>568</th>\n",
       "      <td>73.9719</td>\n",
       "      <td>74.1169</td>\n",
       "      <td>73.8725</td>\n",
       "      <td>73.4326</td>\n",
       "      <td>73.5819</td>\n",
       "      <td>73.9298</td>\n",
       "      <td>73.2056</td>\n",
       "      <td>72.9798</td>\n",
       "      <td>72.3918</td>\n",
       "      <td>72.3381</td>\n",
       "      <td>...</td>\n",
       "      <td>68.9831</td>\n",
       "      <td>68.3413</td>\n",
       "      <td>69.0151</td>\n",
       "      <td>68.6319</td>\n",
       "      <td>68.3123</td>\n",
       "      <td>68.6745</td>\n",
       "      <td>68.6183</td>\n",
       "      <td>69.1219</td>\n",
       "      <td>70.3950</td>\n",
       "      <td>69.7524</td>\n",
       "    </tr>\n",
       "    <tr>\n",
       "      <th>569</th>\n",
       "      <td>74.1169</td>\n",
       "      <td>73.8725</td>\n",
       "      <td>73.4326</td>\n",
       "      <td>73.5819</td>\n",
       "      <td>73.9298</td>\n",
       "      <td>73.2056</td>\n",
       "      <td>72.9798</td>\n",
       "      <td>72.3918</td>\n",
       "      <td>72.3381</td>\n",
       "      <td>70.9240</td>\n",
       "      <td>...</td>\n",
       "      <td>68.3413</td>\n",
       "      <td>69.0151</td>\n",
       "      <td>68.6319</td>\n",
       "      <td>68.3123</td>\n",
       "      <td>68.6745</td>\n",
       "      <td>68.6183</td>\n",
       "      <td>69.1219</td>\n",
       "      <td>70.3950</td>\n",
       "      <td>69.7524</td>\n",
       "      <td>69.4822</td>\n",
       "    </tr>\n",
       "    <tr>\n",
       "      <th>570</th>\n",
       "      <td>73.8725</td>\n",
       "      <td>73.4326</td>\n",
       "      <td>73.5819</td>\n",
       "      <td>73.9298</td>\n",
       "      <td>73.2056</td>\n",
       "      <td>72.9798</td>\n",
       "      <td>72.3918</td>\n",
       "      <td>72.3381</td>\n",
       "      <td>70.9240</td>\n",
       "      <td>71.8804</td>\n",
       "      <td>...</td>\n",
       "      <td>69.0151</td>\n",
       "      <td>68.6319</td>\n",
       "      <td>68.3123</td>\n",
       "      <td>68.6745</td>\n",
       "      <td>68.6183</td>\n",
       "      <td>69.1219</td>\n",
       "      <td>70.3950</td>\n",
       "      <td>69.7524</td>\n",
       "      <td>69.4822</td>\n",
       "      <td>69.6180</td>\n",
       "    </tr>\n",
       "  </tbody>\n",
       "</table>\n",
       "<p>571 rows × 28 columns</p>\n",
       "</div>"
      ],
      "text/plain": [
       "      past_0   past_1   past_2   past_3   past_4   past_5   past_6   past_7  \\\n",
       "0    57.0463  56.8734  56.9957  56.6019  56.3569  56.3878  56.5925  56.7597   \n",
       "1    56.8734  56.9957  56.6019  56.3569  56.3878  56.5925  56.7597  56.5892   \n",
       "2    56.9957  56.6019  56.3569  56.3878  56.5925  56.7597  56.5892  56.6261   \n",
       "3    56.6019  56.3569  56.3878  56.5925  56.7597  56.5892  56.6261  56.4115   \n",
       "4    56.3569  56.3878  56.5925  56.7597  56.5892  56.6261  56.4115  56.3888   \n",
       "..       ...      ...      ...      ...      ...      ...      ...      ...   \n",
       "566  73.6894  72.7263  73.9719  74.1169  73.8725  73.4326  73.5819  73.9298   \n",
       "567  72.7263  73.9719  74.1169  73.8725  73.4326  73.5819  73.9298  73.2056   \n",
       "568  73.9719  74.1169  73.8725  73.4326  73.5819  73.9298  73.2056  72.9798   \n",
       "569  74.1169  73.8725  73.4326  73.5819  73.9298  73.2056  72.9798  72.3918   \n",
       "570  73.8725  73.4326  73.5819  73.9298  73.2056  72.9798  72.3918  72.3381   \n",
       "\n",
       "      past_8   past_9  ...  past_18  past_19  past_20  past_21  past_22  \\\n",
       "0    56.5892  56.6261  ...  56.0408  56.6278  57.2196  56.9533  57.6736   \n",
       "1    56.6261  56.4115  ...  56.6278  57.2196  56.9533  57.6736  58.1718   \n",
       "2    56.4115  56.3888  ...  57.2196  56.9533  57.6736  58.1718  58.0171   \n",
       "3    56.3888  55.9288  ...  56.9533  57.6736  58.1718  58.0171  57.7701   \n",
       "4    55.9288  55.8288  ...  57.6736  58.1718  58.0171  57.7701  57.5899   \n",
       "..       ...      ...  ...      ...      ...      ...      ...      ...   \n",
       "566  73.2056  72.9798  ...  70.7520  69.7114  68.9831  68.3413  69.0151   \n",
       "567  72.9798  72.3918  ...  69.7114  68.9831  68.3413  69.0151  68.6319   \n",
       "568  72.3918  72.3381  ...  68.9831  68.3413  69.0151  68.6319  68.3123   \n",
       "569  72.3381  70.9240  ...  68.3413  69.0151  68.6319  68.3123  68.6745   \n",
       "570  70.9240  71.8804  ...  69.0151  68.6319  68.3123  68.6745  68.6183   \n",
       "\n",
       "     past_23  past_24  past_25  past_26  past_27  \n",
       "0    58.1718  58.0171  57.7701  57.5899  56.5918  \n",
       "1    58.0171  57.7701  57.5899  56.5918  56.3554  \n",
       "2    57.7701  57.5899  56.5918  56.3554  56.3438  \n",
       "3    57.5899  56.5918  56.3554  56.3438  56.5201  \n",
       "4    56.5918  56.3554  56.3438  56.5201  56.6537  \n",
       "..       ...      ...      ...      ...      ...  \n",
       "566  68.6319  68.3123  68.6745  68.6183  69.1219  \n",
       "567  68.3123  68.6745  68.6183  69.1219  70.3950  \n",
       "568  68.6745  68.6183  69.1219  70.3950  69.7524  \n",
       "569  68.6183  69.1219  70.3950  69.7524  69.4822  \n",
       "570  69.1219  70.3950  69.7524  69.4822  69.6180  \n",
       "\n",
       "[571 rows x 28 columns]"
      ]
     },
     "execution_count": 26,
     "metadata": {},
     "output_type": "execute_result"
    }
   ],
   "source": []
  },
  {
   "cell_type": "code",
   "execution_count": 31,
   "metadata": {},
   "outputs": [],
   "source": [
    "future_df = pandas.DataFrame(training_future, columns = future_columns)"
   ]
  },
  {
   "cell_type": "code",
   "execution_count": 32,
   "metadata": {},
   "outputs": [
    {
     "data": {
      "text/html": [
       "<div>\n",
       "<style scoped>\n",
       "    .dataframe tbody tr th:only-of-type {\n",
       "        vertical-align: middle;\n",
       "    }\n",
       "\n",
       "    .dataframe tbody tr th {\n",
       "        vertical-align: top;\n",
       "    }\n",
       "\n",
       "    .dataframe thead th {\n",
       "        text-align: right;\n",
       "    }\n",
       "</style>\n",
       "<table border=\"1\" class=\"dataframe\">\n",
       "  <thead>\n",
       "    <tr style=\"text-align: right;\">\n",
       "      <th></th>\n",
       "      <th>future_0</th>\n",
       "      <th>future_1</th>\n",
       "      <th>future_2</th>\n",
       "      <th>future_3</th>\n",
       "      <th>future_4</th>\n",
       "      <th>future_5</th>\n",
       "      <th>future_6</th>\n",
       "    </tr>\n",
       "  </thead>\n",
       "  <tbody>\n",
       "    <tr>\n",
       "      <th>0</th>\n",
       "      <td>56.3554</td>\n",
       "      <td>56.3438</td>\n",
       "      <td>56.5201</td>\n",
       "      <td>56.6537</td>\n",
       "      <td>56.7608</td>\n",
       "      <td>55.9208</td>\n",
       "      <td>55.6717</td>\n",
       "    </tr>\n",
       "    <tr>\n",
       "      <th>1</th>\n",
       "      <td>56.3438</td>\n",
       "      <td>56.5201</td>\n",
       "      <td>56.6537</td>\n",
       "      <td>56.7608</td>\n",
       "      <td>55.9208</td>\n",
       "      <td>55.6717</td>\n",
       "      <td>56.3742</td>\n",
       "    </tr>\n",
       "    <tr>\n",
       "      <th>2</th>\n",
       "      <td>56.5201</td>\n",
       "      <td>56.6537</td>\n",
       "      <td>56.7608</td>\n",
       "      <td>55.9208</td>\n",
       "      <td>55.6717</td>\n",
       "      <td>56.3742</td>\n",
       "      <td>56.4334</td>\n",
       "    </tr>\n",
       "    <tr>\n",
       "      <th>3</th>\n",
       "      <td>56.6537</td>\n",
       "      <td>56.7608</td>\n",
       "      <td>55.9208</td>\n",
       "      <td>55.6717</td>\n",
       "      <td>56.3742</td>\n",
       "      <td>56.4334</td>\n",
       "      <td>56.6616</td>\n",
       "    </tr>\n",
       "    <tr>\n",
       "      <th>4</th>\n",
       "      <td>56.7608</td>\n",
       "      <td>55.9208</td>\n",
       "      <td>55.6717</td>\n",
       "      <td>56.3742</td>\n",
       "      <td>56.4334</td>\n",
       "      <td>56.6616</td>\n",
       "      <td>57.1000</td>\n",
       "    </tr>\n",
       "    <tr>\n",
       "      <th>...</th>\n",
       "      <td>...</td>\n",
       "      <td>...</td>\n",
       "      <td>...</td>\n",
       "      <td>...</td>\n",
       "      <td>...</td>\n",
       "      <td>...</td>\n",
       "      <td>...</td>\n",
       "    </tr>\n",
       "    <tr>\n",
       "      <th>566</th>\n",
       "      <td>70.3950</td>\n",
       "      <td>69.7524</td>\n",
       "      <td>69.4822</td>\n",
       "      <td>69.6180</td>\n",
       "      <td>69.5725</td>\n",
       "      <td>69.4835</td>\n",
       "      <td>68.8376</td>\n",
       "    </tr>\n",
       "    <tr>\n",
       "      <th>567</th>\n",
       "      <td>69.7524</td>\n",
       "      <td>69.4822</td>\n",
       "      <td>69.6180</td>\n",
       "      <td>69.5725</td>\n",
       "      <td>69.4835</td>\n",
       "      <td>68.8376</td>\n",
       "      <td>68.8376</td>\n",
       "    </tr>\n",
       "    <tr>\n",
       "      <th>568</th>\n",
       "      <td>69.4822</td>\n",
       "      <td>69.6180</td>\n",
       "      <td>69.5725</td>\n",
       "      <td>69.4835</td>\n",
       "      <td>68.8376</td>\n",
       "      <td>68.8376</td>\n",
       "      <td>69.4660</td>\n",
       "    </tr>\n",
       "    <tr>\n",
       "      <th>569</th>\n",
       "      <td>69.6180</td>\n",
       "      <td>69.5725</td>\n",
       "      <td>69.4835</td>\n",
       "      <td>68.8376</td>\n",
       "      <td>68.8376</td>\n",
       "      <td>69.4660</td>\n",
       "      <td>69.1284</td>\n",
       "    </tr>\n",
       "    <tr>\n",
       "      <th>570</th>\n",
       "      <td>69.5725</td>\n",
       "      <td>69.4835</td>\n",
       "      <td>68.8376</td>\n",
       "      <td>68.8376</td>\n",
       "      <td>69.4660</td>\n",
       "      <td>69.1284</td>\n",
       "      <td>69.9513</td>\n",
       "    </tr>\n",
       "  </tbody>\n",
       "</table>\n",
       "<p>571 rows × 7 columns</p>\n",
       "</div>"
      ],
      "text/plain": [
       "     future_0  future_1  future_2  future_3  future_4  future_5  future_6\n",
       "0     56.3554   56.3438   56.5201   56.6537   56.7608   55.9208   55.6717\n",
       "1     56.3438   56.5201   56.6537   56.7608   55.9208   55.6717   56.3742\n",
       "2     56.5201   56.6537   56.7608   55.9208   55.6717   56.3742   56.4334\n",
       "3     56.6537   56.7608   55.9208   55.6717   56.3742   56.4334   56.6616\n",
       "4     56.7608   55.9208   55.6717   56.3742   56.4334   56.6616   57.1000\n",
       "..        ...       ...       ...       ...       ...       ...       ...\n",
       "566   70.3950   69.7524   69.4822   69.6180   69.5725   69.4835   68.8376\n",
       "567   69.7524   69.4822   69.6180   69.5725   69.4835   68.8376   68.8376\n",
       "568   69.4822   69.6180   69.5725   69.4835   68.8376   68.8376   69.4660\n",
       "569   69.6180   69.5725   69.4835   68.8376   68.8376   69.4660   69.1284\n",
       "570   69.5725   69.4835   68.8376   68.8376   69.4660   69.1284   69.9513\n",
       "\n",
       "[571 rows x 7 columns]"
      ]
     },
     "execution_count": 32,
     "metadata": {},
     "output_type": "execute_result"
    }
   ],
   "source": [
    "future_df"
   ]
  },
  {
   "cell_type": "code",
   "execution_count": 34,
   "metadata": {},
   "outputs": [],
   "source": [
    "#training set\n",
    "X_train = past_df[:-10]\n",
    "Y_train = future_df[:-10]"
   ]
  },
  {
   "cell_type": "code",
   "execution_count": 35,
   "metadata": {},
   "outputs": [],
   "source": [
    "#test set\n",
    "X_test = past_df[-10:]\n",
    "Y_test = future_df[-10:]"
   ]
  },
  {
   "cell_type": "code",
   "execution_count": 36,
   "metadata": {},
   "outputs": [],
   "source": [
    "from sklearn.ensemble import RandomForestRegressor"
   ]
  },
  {
   "cell_type": "code",
   "execution_count": 99,
   "metadata": {},
   "outputs": [],
   "source": [
    "forest = RandomForestRegressor(n_estimators = 1000)"
   ]
  },
  {
   "cell_type": "code",
   "execution_count": 100,
   "metadata": {},
   "outputs": [
    {
     "data": {
      "text/plain": [
       "RandomForestRegressor(bootstrap=True, ccp_alpha=0.0, criterion='mse',\n",
       "                      max_depth=None, max_features='auto', max_leaf_nodes=None,\n",
       "                      max_samples=None, min_impurity_decrease=0.0,\n",
       "                      min_impurity_split=None, min_samples_leaf=1,\n",
       "                      min_samples_split=2, min_weight_fraction_leaf=0.0,\n",
       "                      n_estimators=1000, n_jobs=None, oob_score=False,\n",
       "                      random_state=None, verbose=0, warm_start=False)"
      ]
     },
     "execution_count": 100,
     "metadata": {},
     "output_type": "execute_result"
    }
   ],
   "source": [
    "forest.fit(X_train, Y_train)"
   ]
  },
  {
   "cell_type": "code",
   "execution_count": 101,
   "metadata": {},
   "outputs": [
    {
     "data": {
      "text/plain": [
       "array([[68.9390561, 68.7011541, 68.4262421, 68.4658452, 68.4409317,\n",
       "        68.5828872, 69.1819012]])"
      ]
     },
     "execution_count": 101,
     "metadata": {},
     "output_type": "execute_result"
    }
   ],
   "source": [
    "forest.predict(X_test.head(1))"
   ]
  },
  {
   "cell_type": "code",
   "execution_count": 102,
   "metadata": {},
   "outputs": [
    {
     "data": {
      "text/html": [
       "<div>\n",
       "<style scoped>\n",
       "    .dataframe tbody tr th:only-of-type {\n",
       "        vertical-align: middle;\n",
       "    }\n",
       "\n",
       "    .dataframe tbody tr th {\n",
       "        vertical-align: top;\n",
       "    }\n",
       "\n",
       "    .dataframe thead th {\n",
       "        text-align: right;\n",
       "    }\n",
       "</style>\n",
       "<table border=\"1\" class=\"dataframe\">\n",
       "  <thead>\n",
       "    <tr style=\"text-align: right;\">\n",
       "      <th></th>\n",
       "      <th>future_0</th>\n",
       "      <th>future_1</th>\n",
       "      <th>future_2</th>\n",
       "      <th>future_3</th>\n",
       "      <th>future_4</th>\n",
       "      <th>future_5</th>\n",
       "      <th>future_6</th>\n",
       "    </tr>\n",
       "  </thead>\n",
       "  <tbody>\n",
       "    <tr>\n",
       "      <th>561</th>\n",
       "      <td>68.6319</td>\n",
       "      <td>68.3123</td>\n",
       "      <td>68.6745</td>\n",
       "      <td>68.6183</td>\n",
       "      <td>69.1219</td>\n",
       "      <td>70.395</td>\n",
       "      <td>69.7524</td>\n",
       "    </tr>\n",
       "  </tbody>\n",
       "</table>\n",
       "</div>"
      ],
      "text/plain": [
       "     future_0  future_1  future_2  future_3  future_4  future_5  future_6\n",
       "561   68.6319   68.3123   68.6745   68.6183   69.1219    70.395   69.7524"
      ]
     },
     "execution_count": 102,
     "metadata": {},
     "output_type": "execute_result"
    }
   ],
   "source": [
    "Y_test.head(1)"
   ]
  },
  {
   "cell_type": "code",
   "execution_count": 103,
   "metadata": {},
   "outputs": [],
   "source": [
    "from sklearn.metrics import mean_absolute_error"
   ]
  },
  {
   "cell_type": "code",
   "execution_count": 104,
   "metadata": {},
   "outputs": [],
   "source": [
    "prediction = forest.predict(X_test.head(1))[0]"
   ]
  },
  {
   "cell_type": "code",
   "execution_count": 105,
   "metadata": {},
   "outputs": [],
   "source": [
    "real = Y_test.iloc[0]"
   ]
  },
  {
   "cell_type": "code",
   "execution_count": 106,
   "metadata": {},
   "outputs": [
    {
     "data": {
      "text/plain": [
       "0.5943289714286502"
      ]
     },
     "execution_count": 106,
     "metadata": {},
     "output_type": "execute_result"
    }
   ],
   "source": [
    "mean_absolute_error(real, prediction)"
   ]
  },
  {
   "cell_type": "code",
   "execution_count": 107,
   "metadata": {},
   "outputs": [],
   "source": [
    "import matplotlib.pyplot as plt"
   ]
  },
  {
   "cell_type": "code",
   "execution_count": 108,
   "metadata": {},
   "outputs": [
    {
     "data": {
      "image/png": "[encoded data removed]",
      "text/plain": [
       "<Figure size 432x288 with 1 Axes>"
      ]
     },
     "metadata": {
      "needs_background": "light"
     },
     "output_type": "display_data"
    }
   ],
   "source": [
    "plt.plot(prediction, label = 'Prediction')\n",
    "plt.plot(real, label = 'Real')\n",
    "plt.legend()\n",
    "plt.show()"
   ]
  },
  {
   "cell_type": "code",
   "execution_count": 109,
   "metadata": {},
   "outputs": [],
   "source": [
    "prediction = forest.predict([X_test.iloc[1]])[0]\n",
    "real = Y_test.iloc[1]"
   ]
  },
  {
   "cell_type": "code",
   "execution_count": 110,
   "metadata": {},
   "outputs": [
    {
     "data": {
      "image/png": "[encoded data removed]",
      "text/plain": [
       "<Figure size 432x288 with 1 Axes>"
      ]
     },
     "metadata": {
      "needs_background": "light"
     },
     "output_type": "display_data"
    }
   ],
   "source": [
    "plt.plot(prediction, label = 'Prediction')\n",
    "plt.plot(real, label = 'Real')\n",
    "plt.legend()\n",
    "plt.show()"
   ]
  },
  {
   "cell_type": "code",
   "execution_count": 116,
   "metadata": {},
   "outputs": [],
   "source": [
    "from sklearn.linear_model import LogisticRegression\n",
    "from sklearn.multioutput import MultiOutputRegressor\n",
    "from sklearn.linear_model import LinearRegression"
   ]
  },
  {
   "cell_type": "code",
   "execution_count": 128,
   "metadata": {},
   "outputs": [
    {
     "data": {
      "text/plain": [
       "LinearRegression(copy_X=True, fit_intercept=True, n_jobs=None, normalize=True)"
      ]
     },
     "execution_count": 128,
     "metadata": {},
     "output_type": "execute_result"
    }
   ],
   "source": [
    "linReg = LinearRegression(normalize = True)\n",
    "linReg.fit(X_train, Y_train)"
   ]
  },
  {
   "cell_type": "code",
   "execution_count": 126,
   "metadata": {},
   "outputs": [
    {
     "name": "stdout",
     "output_type": "stream",
     "text": [
      "Day 1 (LinReg)\n",
      "Mae = 0.8363974173424741\n"
     ]
    },
    {
     "data": {
      "image/png": "[encoded data removed]",
      "text/plain": [
       "<Figure size 432x288 with 1 Axes>"
      ]
     },
     "metadata": {
      "needs_background": "light"
     },
     "output_type": "display_data"
    }
   ],
   "source": [
    "print(\"Day 1 (LinReg)\")\n",
    "prediction = linReg.predict([X_test.iloc[0]])[0]\n",
    "real = Y_test.iloc[0]\n",
    "mae = mean_absolute_error(prediction, real)\n",
    "print(f\"Mae = {mae}\")\n",
    "plt.plot(prediction, label = 'Prediction')\n",
    "plt.plot(real, label = 'Real')\n",
    "plt.legend()\n",
    "plt.show()"
   ]
  },
  {
   "cell_type": "code",
   "execution_count": 132,
   "metadata": {},
   "outputs": [],
   "source": [
    "from sklearn.neural_network import MLPRegressor"
   ]
  },
  {
   "cell_type": "code",
   "execution_count": 159,
   "metadata": {},
   "outputs": [],
   "source": [
    "mlp = MLPRegressor(max_iter = 2000, hidden_layer_sizes=(100,100))"
   ]
  },
  {
   "cell_type": "code",
   "execution_count": 160,
   "metadata": {},
   "outputs": [
    {
     "data": {
      "text/plain": [
       "MLPRegressor(activation='relu', alpha=0.0001, batch_size='auto', beta_1=0.9,\n",
       "             beta_2=0.999, early_stopping=False, epsilon=1e-08,\n",
       "             hidden_layer_sizes=(100, 100), learning_rate='constant',\n",
       "             learning_rate_init=0.001, max_fun=15000, max_iter=2000,\n",
       "             momentum=0.9, n_iter_no_change=10, nesterovs_momentum=True,\n",
       "             power_t=0.5, random_state=None, shuffle=True, solver='adam',\n",
       "             tol=0.0001, validation_fraction=0.1, verbose=False,\n",
       "             warm_start=False)"
      ]
     },
     "execution_count": 160,
     "metadata": {},
     "output_type": "execute_result"
    }
   ],
   "source": [
    "mlp.fit(X_train, Y_train)"
   ]
  },
  {
   "cell_type": "code",
   "execution_count": 161,
   "metadata": {},
   "outputs": [
    {
     "name": "stdout",
     "output_type": "stream",
     "text": [
      "Day 1 (MLP)\n",
      "Mae = 0.7811064543320408\n"
     ]
    },
    {
     "data": {
      "image/png": "[encoded data removed]",
      "text/plain": [
       "<Figure size 432x288 with 1 Axes>"
      ]
     },
     "metadata": {
      "needs_background": "light"
     },
     "output_type": "display_data"
    }
   ],
   "source": [
    "print(\"Day 1 (MLP)\")\n",
    "prediction = mlp.predict([X_test.iloc[0]])[0]\n",
    "real = Y_test.iloc[0]\n",
    "mae = mean_absolute_error(prediction, real)\n",
    "print(f\"Mae = {mae}\")\n",
    "plt.plot(prediction, label = 'Prediction')\n",
    "plt.plot(real, label = 'Real')\n",
    "plt.legend()\n",
    "plt.show()"
   ]
  },
  {
   "cell_type": "code",
   "execution_count": 162,
   "metadata": {},
   "outputs": [],
   "source": [
    "import pickle"
   ]
  },
  {
   "cell_type": "code",
   "execution_count": 170,
   "metadata": {},
   "outputs": [],
   "source": [
    "pickle.dump(mlp, open(\"mlp.model\", \"wb\"))"
   ]
  },
  {
   "cell_type": "code",
   "execution_count": 171,
   "metadata": {},
   "outputs": [],
   "source": [
    "#cross validation:"
   ]
  },
  {
   "cell_type": "code",
   "execution_count": 172,
   "metadata": {},
   "outputs": [],
   "source": [
    "from sklearn.model_selection import GridSearchCV"
   ]
  },
  {
   "cell_type": "code",
   "execution_count": 174,
   "metadata": {},
   "outputs": [],
   "source": [
    "from sklearn.neighbors import KNeighborsRegressor"
   ]
  },
  {
   "cell_type": "code",
   "execution_count": 175,
   "metadata": {},
   "outputs": [],
   "source": [
    "KNN = KNeighborsRegressor(p=2)"
   ]
  },
  {
   "cell_type": "code",
   "execution_count": 177,
   "metadata": {},
   "outputs": [],
   "source": [
    "param_grid = {\n",
    "    \"n_neighbors\": [1,2,4,8],\n",
    "    \"weights\": ['uniform', 'distance']\n",
    "}\n",
    "gs = GridSearchCV(KNN, param_grid, \"neg_mean_absolute_error\", cv=4)"
   ]
  },
  {
   "cell_type": "code",
   "execution_count": 178,
   "metadata": {},
   "outputs": [
    {
     "data": {
      "text/plain": [
       "GridSearchCV(cv=4, error_score=nan,\n",
       "             estimator=KNeighborsRegressor(algorithm='auto', leaf_size=30,\n",
       "                                           metric='minkowski',\n",
       "                                           metric_params=None, n_jobs=None,\n",
       "                                           n_neighbors=5, p=2,\n",
       "                                           weights='uniform'),\n",
       "             iid='deprecated', n_jobs=None,\n",
       "             param_grid={'n_neighbors': [1, 2, 4, 8],\n",
       "                         'weights': ['uniform', 'distance']},\n",
       "             pre_dispatch='2*n_jobs', refit=True, return_train_score=False,\n",
       "             scoring='neg_mean_absolute_error', verbose=0)"
      ]
     },
     "execution_count": 178,
     "metadata": {},
     "output_type": "execute_result"
    }
   ],
   "source": [
    "gs.fit(X_train, Y_train)"
   ]
  },
  {
   "cell_type": "code",
   "execution_count": 180,
   "metadata": {},
   "outputs": [
    {
     "data": {
      "text/plain": [
       "{'n_neighbors': 8, 'weights': 'uniform'}"
      ]
     },
     "execution_count": 180,
     "metadata": {},
     "output_type": "execute_result"
    }
   ],
   "source": [
    "gs.best_params_"
   ]
  },
  {
   "cell_type": "code",
   "execution_count": 181,
   "metadata": {},
   "outputs": [
    {
     "data": {
      "text/plain": [
       "-2.160651243102294"
      ]
     },
     "execution_count": 181,
     "metadata": {},
     "output_type": "execute_result"
    }
   ],
   "source": [
    "gs.best_score_"
   ]
  },
  {
   "cell_type": "code",
   "execution_count": 183,
   "metadata": {},
   "outputs": [],
   "source": [
    "best_model = gs.best_estimator_"
   ]
  },
  {
   "cell_type": "code",
   "execution_count": 184,
   "metadata": {},
   "outputs": [
    {
     "data": {
      "text/plain": [
       "KNeighborsRegressor(algorithm='auto', leaf_size=30, metric='minkowski',\n",
       "                    metric_params=None, n_jobs=None, n_neighbors=8, p=2,\n",
       "                    weights='uniform')"
      ]
     },
     "execution_count": 184,
     "metadata": {},
     "output_type": "execute_result"
    }
   ],
   "source": [
    "best_model"
   ]
  },
  {
   "cell_type": "code",
   "execution_count": 185,
   "metadata": {},
   "outputs": [
    {
     "name": "stdout",
     "output_type": "stream",
     "text": [
      "Day 1 (MLP)\n",
      "Mae = 0.7811064543320408\n"
     ]
    },
    {
     "data": {
      "image/png": "[encoded data removed]",
      "text/plain": [
       "<Figure size 432x288 with 1 Axes>"
      ]
     },
     "metadata": {
      "needs_background": "light"
     },
     "output_type": "display_data"
    }
   ],
   "source": [
    "print(\"Day 1 (MLP)\")\n",
    "prediction = mlp.predict([X_test.iloc[0]])[0]\n",
    "real = Y_test.iloc[0]\n",
    "mae = mean_absolute_error(prediction, real)\n",
    "print(f\"Mae = {mae}\")\n",
    "plt.plot(prediction, label = 'Prediction')\n",
    "plt.plot(real, label = 'Real')\n",
    "plt.legend()\n",
    "plt.show()"
   ]
  },
  {
   "cell_type": "code",
   "execution_count": null,
   "metadata": {},
   "outputs": [],
   "source": []
  }
 ],
 "metadata": {
  "kernelspec": {
   "display_name": "Python 3",
   "language": "python",
   "name": "python3"
  },
  "language_info": {
   "codemirror_mode": {
    "name": "ipython",
    "version": 3
   },
   "file_extension": ".py",
   "mimetype": "text/x-python",
   "name": "python",
   "nbconvert_exporter": "python",
   "pygments_lexer": "ipython3",
   "version": "3.7.6"
  }
 },
 "nbformat": 4,
 "nbformat_minor": 4
}
